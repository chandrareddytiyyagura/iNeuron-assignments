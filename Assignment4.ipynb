{
 "cells": [
  {
   "cell_type": "markdown",
   "metadata": {},
   "source": [
    "## 1.1 Write a Python Program(with class concepts) to find the area of the triangle using the below formula.\n",
    " * area = (s*(s-a)*(s-b)*(s-c)) ** 0.5\n",
    "### Function to take the length of the sides of triangle from user should be defined in the parent class and function to calculate the area should be defined in subclass."
   ]
  },
  {
   "cell_type": "code",
   "execution_count": 7,
   "metadata": {},
   "outputs": [
    {
     "name": "stdout",
     "output_type": "stream",
     "text": [
      "Enter 'a' value:10\n",
      "Enter 'b' value:20\n",
      "Enter 'c' value:30\n",
      "0.0\n"
     ]
    }
   ],
   "source": [
    "class Parent:\n",
    "    def __init__(self,a,b,c):\n",
    "        self.a = a\n",
    "        self.b = b\n",
    "        self.c =c\n",
    "a= float(input(\"Enter 'a' value:\"))\n",
    "b= float(input(\"Enter 'b' value:\"))\n",
    "c= float(input(\"Enter 'c' value:\"))\n",
    "\n",
    "class Child(Parent):\n",
    "    def __init__(self,a,b,c):\n",
    "        super().__init__(a,b,c)\n",
    "        \n",
    "    def calculateArea(self):\n",
    "        s = (a + b + c )/2\n",
    "        print((s*(s-a)*(s-b)*(s-c))*0.5)\n",
    "        \n",
    "\n",
    "x = Child(a,b,c)\n",
    "x.calculateArea()        "
   ]
  },
  {
   "cell_type": "markdown",
   "metadata": {},
   "source": [
    "## 1.2 Write a function filter_long_words() that takes a list of words and an integer n and returns the list of words that are longer than n."
   ]
  },
  {
   "cell_type": "code",
   "execution_count": 8,
   "metadata": {},
   "outputs": [
    {
     "name": "stdout",
     "output_type": "stream",
     "text": [
      "chandra reddy tiyyagura boy bat volleyball cat\n",
      "Enter a number to return a list of words greater than 'n':3\n",
      "['chandra', 'reddy', 'tiyyagura', 'volleyball']\n"
     ]
    }
   ],
   "source": [
    "def filter_long_words(l,n):\n",
    "    nl=[]\n",
    "    for i in l:\n",
    "        if(len(i)>n):\n",
    "            nl.append(i)\n",
    "    return nl\n",
    "l = [i for i in input().split()]\n",
    "n = int(input(\"Enter a number to return a list of words greater than 'n':\"))\n",
    "\n",
    "print(filter_long_words(l,n))\n",
    "            "
   ]
  },
  {
   "cell_type": "markdown",
   "metadata": {},
   "source": [
    "## 2.1 Write a Python program using function concept that maps list of words into a list of integers representing the lengths of the corresponding words.\n",
    "* Hint: If a list [ ab,cde,erty] is passed on to the python function output should come as [2,3,4].Here 2,3 and 4 are the lengths of the words in the list."
   ]
  },
  {
   "cell_type": "code",
   "execution_count": 11,
   "metadata": {},
   "outputs": [
    {
     "name": "stdout",
     "output_type": "stream",
     "text": [
      "Enter a list seperated by ',':\n",
      "baat,chandra reddy tiyyagura\n",
      "[4, 23]\n"
     ]
    }
   ],
   "source": [
    "def calculateLength(l):\n",
    "    nl=[]\n",
    "    for i in l:\n",
    "        n = len(i)\n",
    "        nl.append(n)\n",
    "    return nl\n",
    "print(\"Enter a list seperated by ',':\")\n",
    "l = [i for i in input().split(',')]\n",
    "print(calculateLength(l))\n",
    "            "
   ]
  },
  {
   "cell_type": "markdown",
   "metadata": {},
   "source": [
    "## 2.2 Write a Python function which takes a character (i.e. a string of length 1) and returns True if it is a vowel, False otherwise."
   ]
  },
  {
   "cell_type": "code",
   "execution_count": 16,
   "metadata": {},
   "outputs": [
    {
     "name": "stdout",
     "output_type": "stream",
     "text": [
      "Enter a Character:U\n",
      "True\n"
     ]
    }
   ],
   "source": [
    "def vowelCheck(c):\n",
    "    if c in ['A','E','I','O','U','a','e','i','o','u']:\n",
    "        return True\n",
    "    else:\n",
    "        return False\n",
    "print(vowelCheck(input(\"Enter a Character:\")))"
   ]
  },
  {
   "cell_type": "code",
   "execution_count": null,
   "metadata": {},
   "outputs": [],
   "source": []
  }
 ],
 "metadata": {
  "kernelspec": {
   "display_name": "Python 3",
   "language": "python",
   "name": "python3"
  },
  "language_info": {
   "codemirror_mode": {
    "name": "ipython",
    "version": 3
   },
   "file_extension": ".py",
   "mimetype": "text/x-python",
   "name": "python",
   "nbconvert_exporter": "python",
   "pygments_lexer": "ipython3",
   "version": "3.7.9"
  }
 },
 "nbformat": 4,
 "nbformat_minor": 4
}
